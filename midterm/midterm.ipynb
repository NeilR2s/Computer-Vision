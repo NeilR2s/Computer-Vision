{
 "cells": [
  {
   "cell_type": "code",
   "execution_count": null,
   "metadata": {},
   "outputs": [],
   "source": [
    "import cv2 as cv\n",
    "from matplotlib import pyplot as plt\n",
    "from skimage import measure, metrics\n",
    "from skimage.metrics import structural_similarity as ssim\n",
    "import numpy as np"
   ]
  },
  {
   "cell_type": "code",
   "execution_count": null,
   "metadata": {},
   "outputs": [],
   "source": [
    "def plot_images(images: list, titles: list, columns: int, font_size: int, allow_axes: bool) -> np.ndarray:\n",
    "\n",
    "    \"\"\"\n",
    "    generates a plot of images for comparison, dynamic calculation of arrangement\n",
    "\n",
    "    Parameters: \n",
    "        images (list): list of variables referencing an image\n",
    "        titles (list): list of strings describing the image\n",
    "        columns: (integer): number of columns for plot\n",
    "        font_size (integer): fontsize of subplot titles\n",
    "        allow_axes (boolean): if true, adds axes by default. else, removes axes\n",
    "\n",
    "    Returns:\n",
    "        matrix of pixel values for each image (np.array)\n",
    "        a plot (image)\n",
    "    \"\"\"\n",
    "    images_len = len(images)\n",
    "    rows = images_len // columns\n",
    "\n",
    "    fig, axes = plt.subplots(rows, columns, figsize = (18, 6 * rows))\n",
    "    axes = axes.flatten()\n",
    "    \n",
    "    for i in range(images_len):\n",
    "        axes[i].imshow(cv.cvtColor(images[i], cv.COLOR_BGR2RGB),)\n",
    "        axes[i].imshow(cv.cvtColor(images[i], cv.COLOR_BGR2RGB),)\n",
    "        axes[i].set_title(titles[i], fontsize=font_size)\n",
    "        print(np.array(images[i]))\n",
    "        if allow_axes == True:\n",
    "            pass\n",
    "        else:\n",
    "            axes[i].axis('off')\n",
    "    plt.show()\n"
   ]
  },
  {
   "cell_type": "code",
   "execution_count": null,
   "metadata": {},
   "outputs": [],
   "source": [
    "def gaussian_filter(image: np.ndarray, kernel_size: tuple) -> np.ndarray:\n",
    "\n",
    "    '''\n",
    "    generates an denoised image using a mean filter kernel\n",
    "\n",
    "    Parameters:\n",
    "        image (np.ndarray): a variable that references an image in np.ndarray encoding\n",
    "        kernel_size (tuple): a tuple that indicates kernel size (shape)\n",
    "    \n",
    "    Returns:\n",
    "        image(np.ndarray) \n",
    "    '''\n",
    "    \n",
    "    gaussian_kernel = np.ones(kernel_size, np.float32)/np.prod(kernel_size)\n",
    "    conv_gaussian = cv.filter2D(image, -1, gaussian_kernel, borderType = cv.BORDER_CONSTANT)\n",
    "    return conv_gaussian"
   ]
  },
  {
   "cell_type": "code",
   "execution_count": null,
   "metadata": {},
   "outputs": [],
   "source": [
    "def mean_filter(image: np.ndarray, kernel_size: tuple) -> np.ndarray:\n",
    "\n",
    "    '''\n",
    "    generates an denoised image using a mean filter kernel\n",
    "\n",
    "    Parameters:\n",
    "        image (np.ndarray): a variable that references an image in np.ndarray encoding\n",
    "        kernel_size (tuple): a tuple that indicates kernel size (shape)\n",
    "    \n",
    "    Returns:\n",
    "        image(np.ndarray) \n",
    "    '''\n",
    "    \n",
    "    mean_kernel = np.ones(kernel_size, np.float32)/np.prod(kernel_size)\n",
    "    conv_mean = cv.filter2D(image, -1, mean_kernel, borderType = cv.BORDER_CONSTANT)\n",
    "    return conv_mean"
   ]
  },
  {
   "cell_type": "code",
   "execution_count": null,
   "metadata": {},
   "outputs": [],
   "source": [
    "def translate_image(image: np.ndarray):\n",
    "    translation_matrix = np.float32([[1, 0, 100], [0, 1, 100]]) # Translate by (100, 100)\n",
    "    translated_image = cv.warpAffine(image, translation_matrix, (image.shape[1],image.shape[0]))\n",
    "    return translated_image"
   ]
  },
  {
   "cell_type": "code",
   "execution_count": null,
   "metadata": {},
   "outputs": [],
   "source": [
    "img1 = cv.imread('gu.jpg', 0)\n",
    "img2 = cv.imread('me.jpg', 0)\n",
    "img3 = cv.imread('tr.jpg', 0)\n",
    "\n",
    "gau = gaussian_filter(img1, (3,3))\n",
    "mea = mean_filter(img2, (3,3))\n",
    "tra = translate_image(img3)"
   ]
  },
  {
   "cell_type": "code",
   "execution_count": null,
   "metadata": {},
   "outputs": [],
   "source": [
    "images = [img1, img2, img3, gau, mea, tra]\n",
    "names = ['Original','Original','Original','Gaussian','Mean','Translated']\n",
    "plot_images(images, names, 3, 20, False)"
   ]
  }
 ],
 "metadata": {
  "kernelspec": {
   "display_name": "Python (med-env)",
   "language": "python",
   "name": "med-env"
  },
  "language_info": {
   "codemirror_mode": {
    "name": "ipython",
    "version": 3
   },
   "file_extension": ".py",
   "mimetype": "text/x-python",
   "name": "python",
   "nbconvert_exporter": "python",
   "pygments_lexer": "ipython3",
   "version": "3.10.15"
  }
 },
 "nbformat": 4,
 "nbformat_minor": 2
}
